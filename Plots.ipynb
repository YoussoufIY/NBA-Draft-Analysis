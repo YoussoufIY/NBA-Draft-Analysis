{
 "cells": [
  {
   "cell_type": "code",
   "execution_count": 129,
   "metadata": {},
   "outputs": [
    {
     "data": {
      "text/html": [
       "<div>\n",
       "<style scoped>\n",
       "    .dataframe tbody tr th:only-of-type {\n",
       "        vertical-align: middle;\n",
       "    }\n",
       "\n",
       "    .dataframe tbody tr th {\n",
       "        vertical-align: top;\n",
       "    }\n",
       "\n",
       "    .dataframe thead th {\n",
       "        text-align: right;\n",
       "    }\n",
       "</style>\n",
       "<table border=\"1\" class=\"dataframe\">\n",
       "  <thead>\n",
       "    <tr style=\"text-align: right;\">\n",
       "      <th></th>\n",
       "      <th>#</th>\n",
       "      <th>PLAYER</th>\n",
       "      <th>GP</th>\n",
       "      <th>MIN</th>\n",
       "      <th>PTS</th>\n",
       "      <th>FGM</th>\n",
       "      <th>FGA</th>\n",
       "      <th>FG%</th>\n",
       "      <th>3PM</th>\n",
       "      <th>3PA</th>\n",
       "      <th>...</th>\n",
       "      <th>FT%</th>\n",
       "      <th>OREB</th>\n",
       "      <th>DREB</th>\n",
       "      <th>REB</th>\n",
       "      <th>AST</th>\n",
       "      <th>STL</th>\n",
       "      <th>BLK</th>\n",
       "      <th>TOV</th>\n",
       "      <th>EFG%</th>\n",
       "      <th>TS%</th>\n",
       "    </tr>\n",
       "  </thead>\n",
       "  <tbody>\n",
       "    <tr>\n",
       "      <th>0</th>\n",
       "      <td>1</td>\n",
       "      <td>Kareem Abdul-Jabbar</td>\n",
       "      <td>1,560</td>\n",
       "      <td>57446</td>\n",
       "      <td>38387</td>\n",
       "      <td>15837</td>\n",
       "      <td>28307</td>\n",
       "      <td>55.9</td>\n",
       "      <td>1</td>\n",
       "      <td>18</td>\n",
       "      <td>...</td>\n",
       "      <td>72.1</td>\n",
       "      <td>2975</td>\n",
       "      <td>9394</td>\n",
       "      <td>17440</td>\n",
       "      <td>5660</td>\n",
       "      <td>1160</td>\n",
       "      <td>3189</td>\n",
       "      <td>2527</td>\n",
       "      <td>55.9</td>\n",
       "      <td>59.2</td>\n",
       "    </tr>\n",
       "    <tr>\n",
       "      <th>1</th>\n",
       "      <td>2</td>\n",
       "      <td>LeBron James</td>\n",
       "      <td>1,383</td>\n",
       "      <td>52740</td>\n",
       "      <td>37501</td>\n",
       "      <td>13714</td>\n",
       "      <td>27192</td>\n",
       "      <td>50.4</td>\n",
       "      <td>2181</td>\n",
       "      <td>6310</td>\n",
       "      <td>...</td>\n",
       "      <td>73.4</td>\n",
       "      <td>1628</td>\n",
       "      <td>8736</td>\n",
       "      <td>10364</td>\n",
       "      <td>10154</td>\n",
       "      <td>2156</td>\n",
       "      <td>1052</td>\n",
       "      <td>4846</td>\n",
       "      <td>54.4</td>\n",
       "      <td>58.7</td>\n",
       "    </tr>\n",
       "    <tr>\n",
       "      <th>2</th>\n",
       "      <td>3</td>\n",
       "      <td>Karl Malone</td>\n",
       "      <td>1,476</td>\n",
       "      <td>54852</td>\n",
       "      <td>36928</td>\n",
       "      <td>13528</td>\n",
       "      <td>26210</td>\n",
       "      <td>51.6</td>\n",
       "      <td>85</td>\n",
       "      <td>310</td>\n",
       "      <td>...</td>\n",
       "      <td>74.2</td>\n",
       "      <td>3562</td>\n",
       "      <td>11406</td>\n",
       "      <td>14968</td>\n",
       "      <td>5248</td>\n",
       "      <td>2085</td>\n",
       "      <td>1145</td>\n",
       "      <td>4524</td>\n",
       "      <td>51.8</td>\n",
       "      <td>57.7</td>\n",
       "    </tr>\n",
       "    <tr>\n",
       "      <th>3</th>\n",
       "      <td>4</td>\n",
       "      <td>Kobe Bryant</td>\n",
       "      <td>1,346</td>\n",
       "      <td>48643</td>\n",
       "      <td>33643</td>\n",
       "      <td>11719</td>\n",
       "      <td>26200</td>\n",
       "      <td>44.7</td>\n",
       "      <td>1827</td>\n",
       "      <td>5546</td>\n",
       "      <td>...</td>\n",
       "      <td>83.7</td>\n",
       "      <td>1499</td>\n",
       "      <td>5548</td>\n",
       "      <td>7047</td>\n",
       "      <td>6306</td>\n",
       "      <td>1944</td>\n",
       "      <td>640</td>\n",
       "      <td>4010</td>\n",
       "      <td>48.2</td>\n",
       "      <td>55.0</td>\n",
       "    </tr>\n",
       "    <tr>\n",
       "      <th>4</th>\n",
       "      <td>5</td>\n",
       "      <td>Michael Jordan</td>\n",
       "      <td>1,072</td>\n",
       "      <td>41010</td>\n",
       "      <td>32292</td>\n",
       "      <td>12192</td>\n",
       "      <td>24537</td>\n",
       "      <td>49.7</td>\n",
       "      <td>581</td>\n",
       "      <td>1778</td>\n",
       "      <td>...</td>\n",
       "      <td>83.5</td>\n",
       "      <td>1668</td>\n",
       "      <td>5004</td>\n",
       "      <td>6672</td>\n",
       "      <td>5633</td>\n",
       "      <td>2514</td>\n",
       "      <td>893</td>\n",
       "      <td>2924</td>\n",
       "      <td>50.9</td>\n",
       "      <td>56.9</td>\n",
       "    </tr>\n",
       "  </tbody>\n",
       "</table>\n",
       "<p>5 rows × 23 columns</p>\n",
       "</div>"
      ],
      "text/plain": [
       "   #               PLAYER     GP    MIN    PTS    FGM    FGA   FG%   3PM  \\\n",
       "0  1  Kareem Abdul-Jabbar  1,560  57446  38387  15837  28307  55.9     1   \n",
       "1  2         LeBron James  1,383  52740  37501  13714  27192  50.4  2181   \n",
       "2  3          Karl Malone  1,476  54852  36928  13528  26210  51.6    85   \n",
       "3  4          Kobe Bryant  1,346  48643  33643  11719  26200  44.7  1827   \n",
       "4  5       Michael Jordan  1,072  41010  32292  12192  24537  49.7   581   \n",
       "\n",
       "    3PA  ...   FT%  OREB   DREB    REB    AST   STL   BLK   TOV  EFG%   TS%  \n",
       "0    18  ...  72.1  2975   9394  17440   5660  1160  3189  2527  55.9  59.2  \n",
       "1  6310  ...  73.4  1628   8736  10364  10154  2156  1052  4846  54.4  58.7  \n",
       "2   310  ...  74.2  3562  11406  14968   5248  2085  1145  4524  51.8  57.7  \n",
       "3  5546  ...  83.7  1499   5548   7047   6306  1944   640  4010  48.2  55.0  \n",
       "4  1778  ...  83.5  1668   5004   6672   5633  2514   893  2924  50.9  56.9  \n",
       "\n",
       "[5 rows x 23 columns]"
      ]
     },
     "execution_count": 129,
     "metadata": {},
     "output_type": "execute_result"
    }
   ],
   "source": [
    "# Importing the necessary Python libraries/dependecies\n",
    "import pandas as pd\n",
    "import numpy as np\n",
    "import matplotlib.pyplot as plt\n",
    "\n",
    "# Loading the CSV file of the relevant NBA player draft data and associated statistics\n",
    "draft_data = \"draft-data-20-years.csv\"\n",
    "\n",
    "# Loading the CSV file of the NBA all-time leaders and their associated statistics\n",
    "all_star_data = \"NBA All-time Leaders.csv\"\n",
    "\n",
    "# Reading the CSV file of the relevant NBA player draft data and associated statistics\n",
    "draft_data_df = pd.read_csv(draft_data)\n",
    "\n",
    "# Reading the CSV file of the NBA all-time leaders and their associated statistics\n",
    "all_star_data_df = pd.read_csv(all_star_data)\n",
    "\n",
    "# Displaying the first five rows of the draft_data_df DataFrame using the pandas head() function\n",
    "draft_data_df.head()\n",
    "\n",
    "# Displaying the first five rows of the all_star_data_df DataFrame using the pandas head() function\n",
    "all_star_data_df.head()\n",
    "\n"
   ]
  },
  {
   "attachments": {},
   "cell_type": "markdown",
   "metadata": {},
   "source": [
    "### Average Points Per Game (AVG PPG) as a Function of Draft Position (1990-2021)"
   ]
  },
  {
   "cell_type": "code",
   "execution_count": 130,
   "metadata": {},
   "outputs": [
    {
     "data": {
      "image/png": "[encoded data removed]",
      "text/plain": [
       "<Figure size 432x288 with 1 Axes>"
      ]
     },
     "metadata": {
      "needs_background": "light"
     },
     "output_type": "display_data"
    }
   ],
   "source": [
    "# Creating a matplotlib scatter plot of AVG PPG as a function of draft position\n",
    "# First, computing the AVG PPG of the first 10 picks of each draft from 1990-2021 by implementing a for loop, as well as using the loc(), mean(), and round() pandas functions\n",
    "range = [1, 2, 3, 4, 5, 6, 7, 8, 9, 10];\n",
    "PPG_dp = [];\n",
    "for i in range:\n",
    "    x = round(draft_data_df.loc[draft_data_df['Pk'] == i, 'PPG'].mean(),1)\n",
    "    PPG_dp.append(x)\n",
    "# print(PPG_dp)\n",
    "\n",
    "# Creating scatter plot of AVG career PPG as a function of draft position using Matplotlib\n",
    "draft_pos = ['Pk 1', 'Pk 2', 'Pk 3', 'Pk 4', 'Pk 5', 'Pk 6', 'Pk 7', 'Pk 8', 'Pk 9', 'Pk 10'];\n",
    "plt.scatter(draft_pos, PPG_dp, c='tab:blue', label='data');\n",
    "\n",
    "# Adding title, x-axis label, and y-axis label to the plot\n",
    "plt.title(\"AVG Career PPG as a Function of Draft Position (1990-2021)\");\n",
    "plt.xlabel(\"Draft Position\");\n",
    "plt.ylabel(\"AVG Career PPG\");\n",
    "\n",
    "# Displaying the plot\n",
    "plt.show()"
   ]
  },
  {
   "attachments": {},
   "cell_type": "markdown",
   "metadata": {},
   "source": [
    "### Average Assists Per Game (AVG APG) as a Function of Draft Position (1990-2021)"
   ]
  },
  {
   "cell_type": "code",
   "execution_count": 131,
   "metadata": {},
   "outputs": [
    {
     "data": {
      "image/png": "[encoded data removed]",
      "text/plain": [
       "<Figure size 432x288 with 1 Axes>"
      ]
     },
     "metadata": {
      "needs_background": "light"
     },
     "output_type": "display_data"
    }
   ],
   "source": [
    "# Creating a matplotlib scatter plot of AVG APG as a function of draft position\n",
    "# First, computing the AVG APG of the first 10 picks of each draft from 1990-2021 by implementing a for loop, as well as using the loc(), mean(), and round() pandas functions\n",
    "range = [1, 2, 3, 4, 5, 6, 7, 8, 9, 10];\n",
    "APG_dp = [];\n",
    "for i in range:\n",
    "    x = round(draft_data_df.loc[draft_data_df['Pk'] == i, 'APG'].mean(),1)\n",
    "    APG_dp.append(x)\n",
    "# print(APG_dp)\n",
    "\n",
    "# Creating scatter plot of AVG Career APG as a function of draft position using Matplotlib\n",
    "draft_pos = ['Pk 1', 'Pk 2', 'Pk 3', 'Pk 4', 'Pk 5', 'Pk 6', 'Pk 7', 'Pk 8', 'Pk 9', 'Pk 10'];\n",
    "plt.scatter(draft_pos, APG_dp, c='tab:blue', label='data');\n",
    "\n",
    "# Adding title, x-axis label, and y-axis label to the plot\n",
    "plt.title(\"AVG Career APG as a Function of Draft Position (1990-2021)\");\n",
    "plt.xlabel(\"Draft Position\");\n",
    "plt.ylabel(\"AVG Career APG\");\n",
    "\n",
    "# Displaying the plot\n",
    "plt.show()"
   ]
  },
  {
   "attachments": {},
   "cell_type": "markdown",
   "metadata": {},
   "source": [
    "### Average Rebounds Per Game (AVG RPG) as a Function of Draft Position (1990-2021)"
   ]
  },
  {
   "cell_type": "code",
   "execution_count": 132,
   "metadata": {},
   "outputs": [
    {
     "data": {
      "image/png": "[encoded data removed]",
      "text/plain": [
       "<Figure size 432x288 with 1 Axes>"
      ]
     },
     "metadata": {
      "needs_background": "light"
     },
     "output_type": "display_data"
    }
   ],
   "source": [
    "# Creating a matplotlib scatter plot of AVG RPG as a function of draft position\n",
    "# First, computing the AVG APG of the first 10 picks of each draft from 1990-2021 by implementing a for loop, as well as using the loc(), mean(), and round() pandas functions\n",
    "range = [1, 2, 3, 4, 5, 6, 7, 8, 9, 10];\n",
    "RPG_dp = [];\n",
    "for i in range:\n",
    "    x = round(draft_data_df.loc[draft_data_df['Pk'] == i, 'RPG'].mean(),1)\n",
    "    RPG_dp.append(x)\n",
    "# print(RPG_dp)\n",
    "\n",
    "# Creating scatter plot of AVG Career RPG as a function of draft position using Matplotlib\n",
    "draft_pos = ['Pk 1', 'Pk 2', 'Pk 3', 'Pk 4', 'Pk 5', 'Pk 6', 'Pk 7', 'Pk 8', 'Pk 9', 'Pk 10'];\n",
    "plt.scatter(draft_pos, RPG_dp, c='tab:blue', label='data');\n",
    "\n",
    "# Adding title, x-axis label, and y-axis label to the plot\n",
    "plt.title(\"AVG Career RPG as a Function of Draft Position (1990-2021)\");\n",
    "plt.xlabel(\"Draft Position\");\n",
    "plt.ylabel(\"AVG Career RPG\");\n",
    "\n",
    "# Displaying the plot\n",
    "plt.show()"
   ]
  },
  {
   "attachments": {},
   "cell_type": "markdown",
   "metadata": {},
   "source": [
    "### Average Minutes Played Per Game (AVG MPG) as a Function of Draft Position (1990-2021)"
   ]
  },
  {
   "cell_type": "code",
   "execution_count": 133,
   "metadata": {},
   "outputs": [
    {
     "data": {
      "image/png": "[encoded data removed]",
      "text/plain": [
       "<Figure size 432x288 with 1 Axes>"
      ]
     },
     "metadata": {
      "needs_background": "light"
     },
     "output_type": "display_data"
    }
   ],
   "source": [
    "# Creating a matplotlib scatter plot of AVG MPG as a function of draft position\n",
    "# First, computing the AVG MPG of the first 10 picks of each draft from 1990-2021 by implementing a for loop, as well as using the loc(), mean(), and round() pandas functions\n",
    "range = [1, 2, 3, 4, 5, 6, 7, 8, 9, 10];\n",
    "MPG_dp = [];\n",
    "for i in range:\n",
    "    x = round(draft_data_df.loc[draft_data_df['Pk'] == i, 'MPG'].mean(),1)\n",
    "    MPG_dp.append(x)\n",
    "# print(MPG_dp)\n",
    "\n",
    "# Creating scatter plot of AVG Career MPG as a function of draft position using Matplotlib\n",
    "draft_pos = ['Pk 1', 'Pk 2', 'Pk 3', 'Pk 4', 'Pk 5', 'Pk 6', 'Pk 7', 'Pk 8', 'Pk 9', 'Pk 10'];\n",
    "plt.scatter(draft_pos, MPG_dp, c='tab:blue', label='data');\n",
    "\n",
    "# Adding title, x-axis label, and y-axis label to the plot\n",
    "plt.title(\"AVG Career MPG as a Function of Draft Position (1990-2021)\");\n",
    "plt.xlabel(\"Draft Position\");\n",
    "plt.ylabel(\"AVG Career MPG\");\n",
    "\n",
    "# Displaying the plot\n",
    "plt.show()"
   ]
  },
  {
   "attachments": {},
   "cell_type": "markdown",
   "metadata": {},
   "source": [
    "### Average Games Played (AVG GP) in the League as a Function of Draft Position (1990-2021)"
   ]
  },
  {
   "cell_type": "code",
   "execution_count": 134,
   "metadata": {},
   "outputs": [
    {
     "data": {
      "image/png": "[encoded data removed]",
      "text/plain": [
       "<Figure size 432x288 with 1 Axes>"
      ]
     },
     "metadata": {
      "needs_background": "light"
     },
     "output_type": "display_data"
    }
   ],
   "source": [
    "# Creating a matplotlib scatter plot of AVG GP as a function of draft position\n",
    "# First, computing the AVG MPG of the first 10 picks of each draft from 1990-2021 by implementing a for loop, as well as using the loc(), mean(), and round() pandas functions\n",
    "range = [1, 2, 3, 4, 5, 6, 7, 8, 9, 10];\n",
    "GP_dp = [];\n",
    "for i in range:\n",
    "    x = round(draft_data_df.loc[draft_data_df['Pk'] == i, 'G'].mean(),1)\n",
    "    GP_dp.append(x)\n",
    "# print(MPG_dp)\n",
    "\n",
    "# Creating scatter plot of AVG Career GP as a function of draft position using Matplotlib\n",
    "draft_pos = ['Pk 1', 'Pk 2', 'Pk 3', 'Pk 4', 'Pk 5', 'Pk 6', 'Pk 7', 'Pk 8', 'Pk 9', 'Pk 10'];\n",
    "plt.scatter(draft_pos, GP_dp, c='tab:blue', label='data');\n",
    "\n",
    "# Adding title, x-axis label, and y-axis label to the plot\n",
    "plt.title(\"AVG Career GP as a Function of Draft Position (1990-2021)\");\n",
    "plt.xlabel(\"Draft Position\");\n",
    "plt.ylabel(\"AVG GP\");\n",
    "\n",
    "# Displaying the plot\n",
    "plt.show()"
   ]
  },
  {
   "attachments": {},
   "cell_type": "markdown",
   "metadata": {},
   "source": [
    "### Average Win-Shares (AVG WS) as a Function of Draft Position (1990-2021)"
   ]
  },
  {
   "cell_type": "code",
   "execution_count": 135,
   "metadata": {},
   "outputs": [
    {
     "data": {
      "image/png": "[encoded data removed]",
      "text/plain": [
       "<Figure size 432x288 with 1 Axes>"
      ]
     },
     "metadata": {
      "needs_background": "light"
     },
     "output_type": "display_data"
    }
   ],
   "source": [
    "# Creating a matplotlib scatter plot of AVG WS as a function of draft position\n",
    "# First, computing the AVG WS of the first 10 picks of each draft from 1990-2021 by implementing a for loop, as well as using the loc(), mean(), and round() pandas functions\n",
    "range = [1, 2, 3, 4, 5, 6, 7, 8, 9, 10];\n",
    "WS_dp = [];\n",
    "for i in range:\n",
    "    x = round(draft_data_df.loc[draft_data_df['Pk'] == i, 'WS'].mean(),1)\n",
    "    WS_dp.append(x)\n",
    "# print(WS_dp)\n",
    "\n",
    "# Creating scatter plot of AVG Career WS as a function of draft position using Matplotlib\n",
    "draft_pos = ['Pk 1', 'Pk 2', 'Pk 3', 'Pk 4', 'Pk 5', 'Pk 6', 'Pk 7', 'Pk 8', 'Pk 9', 'Pk 10'];\n",
    "plt.scatter(draft_pos, WS_dp, c='tab:blue', label='data');\n",
    "\n",
    "# Adding title, x-axis label, and y-axis label to the plot\n",
    "plt.title(\"AVG Career WS as a Function of Draft Position (1990-2021)\");\n",
    "plt.xlabel(\"Draft Position\");\n",
    "plt.ylabel(\"AVG WS\");\n",
    "\n",
    "# Displaying the plot\n",
    "plt.show()"
   ]
  },
  {
   "attachments": {},
   "cell_type": "markdown",
   "metadata": {},
   "source": [
    "### Average Box Plus-Minus Rating (AVG BPM) as a Function of Draft Position (1990-2021)"
   ]
  },
  {
   "cell_type": "code",
   "execution_count": 136,
   "metadata": {},
   "outputs": [
    {
     "data": {
      "image/png": "[encoded data removed]",
      "text/plain": [
       "<Figure size 432x288 with 1 Axes>"
      ]
     },
     "metadata": {
      "needs_background": "light"
     },
     "output_type": "display_data"
    }
   ],
   "source": [
    "# Creating a matplotlib scatter plot of AVG BPM as a function of draft position\n",
    "# First, computing the AVG BPM of the first 10 picks of each draft from 1990-2021 by implementing a for loop, as well as using the loc(), mean(), and round() pandas functions\n",
    "range = [1, 2, 3, 4, 5, 6, 7, 8, 9, 10];\n",
    "BPM_dp = [];\n",
    "for i in range:\n",
    "    x = round(draft_data_df.loc[draft_data_df['Pk'] == i, 'BPM'].mean(),1)\n",
    "    BPM_dp.append(x)\n",
    "# print(BPM_dp)\n",
    "\n",
    "# Creating scatter plot of AVG Career BPM as a function of draft position using Matplotlib\n",
    "draft_pos = ['Pk 1', 'Pk 2', 'Pk 3', 'Pk 4', 'Pk 5', 'Pk 6', 'Pk 7', 'Pk 8', 'Pk 9', 'Pk 10'];\n",
    "plt.scatter(draft_pos, BPM_dp, c='tab:blue', label='data');\n",
    "\n",
    "# Adding title, x-axis label, and y-axis label to the plot\n",
    "plt.title(\"AVG Career BPM as a Function of Draft Position (1990-2021)\");\n",
    "plt.xlabel(\"Draft Position\");\n",
    "plt.ylabel(\"AVG BPM\");\n",
    "\n",
    "# Displaying the plot\n",
    "plt.show()"
   ]
  },
  {
   "attachments": {},
   "cell_type": "markdown",
   "metadata": {},
   "source": [
    "### Average Career All-Star Appearances as a Function of Draft Position (1990-2021)"
   ]
  },
  {
   "cell_type": "code",
   "execution_count": null,
   "metadata": {},
   "outputs": [],
   "source": []
  }
 ],
 "metadata": {
  "kernelspec": {
   "display_name": "base",
   "language": "python",
   "name": "python3"
  },
  "language_info": {
   "codemirror_mode": {
    "name": "ipython",
    "version": 3
   },
   "file_extension": ".py",
   "mimetype": "text/x-python",
   "name": "python",
   "nbconvert_exporter": "python",
   "pygments_lexer": "ipython3",
   "version": "3.8.3"
  },
  "orig_nbformat": 4,
  "vscode": {
   "interpreter": {
    "hash": "5ba349deae45cf61f329537c53e7b1b52a6d92426cc7952b61adf37a12bf6542"
   }
  }
 },
 "nbformat": 4,
 "nbformat_minor": 2
}
